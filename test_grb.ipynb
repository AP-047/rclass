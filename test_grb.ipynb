{
 "cells": [
  {
   "cell_type": "markdown",
   "id": "ad6f079e-0bfe-4bdb-a771-10040122fa83",
   "metadata": {},
   "source": [
    "🌿Preprocessing"
   ]
  },
  {
   "cell_type": "code",
   "execution_count": 1,
   "id": "3e5d2f3e-25a7-446c-96fc-4baee727c31c",
   "metadata": {},
   "outputs": [
    {
     "name": "stdout",
     "output_type": "stream",
     "text": [
      "x_test shape: (10000, 28, 28), y_test shape: (10000,)\n",
      "1. x_test_flat shape: (10000, 784), y_test shape: (10000,)\n",
      "2. x_test_subset shape: (1000, 784)\n",
      "(trained pca model loaded)\n",
      "3. x_test_pca shape: (1000, 75)\n",
      "variance = 0.9116844525507454\n",
      "4. x_test_norm shape: (1000, 75)\n"
     ]
    }
   ],
   "source": [
    "import numpy as np\n",
    "from sklearn.decomposition import PCA\n",
    "from sklearn.preprocessing import StandardScaler\n",
    "import pickle\n",
    "\n",
    "# load test data\n",
    "mnist_path = \"/home/ajay2425/rclass/mnist_dataset/mnist.npz\" #main\n",
    "with np.load(mnist_path) as data:\n",
    "    x_test = data[\"x_test\"]\n",
    "    y_test = data[\"y_test\"]\n",
    "print(f\"x_test shape: {x_test.shape}, y_test shape: {y_test.shape}\")\n",
    "\n",
    "# 1. Flatten\n",
    "x_test_flat = x_test.reshape(x_test.shape[0], -1)\n",
    "print(f\"1. x_test_flat shape: {x_test_flat.shape}, y_test shape: {y_test.shape}\")\n",
    "\n",
    "# 2. Subsets\n",
    "subset_size = 1000\n",
    "x_test_subset = x_test_flat[:subset_size]\n",
    "y_test_subset = y_test[:subset_size]\n",
    "print(f\"2. x_test_subset shape: {x_test_subset.shape}\")\n",
    "\n",
    "# 3. PCA\n",
    "pca_model_path = \"/home/ajay2425/rclass/models/models_grb/trained_pca.pkl\" #main\n",
    "# pca_model_path = \"/home/ajay2425/rclass/models/add/trained_pca.pkl\" # temp.\n",
    "with open(pca_model_path, \"rb\") as file:\n",
    "    pca = pickle.load(file)\n",
    "print(\"(trained pca model loaded)\")\n",
    "# apply pca to the test data\n",
    "x_test_pca = pca.transform(x_test_subset)  # Use the same pca model from training\n",
    "print(f\"3. x_test_pca shape: {x_test_pca.shape}\")\n",
    "variance = np.sum(pca.explained_variance_ratio_)\n",
    "print(f\"variance = {variance}\")\n",
    "\n",
    "# 4. Binarize\n",
    "threshold_value = 0\n",
    "x_test_norm = (x_test_pca > threshold_value).astype(int)\n",
    "print(f\"4. x_test_norm shape: {x_test_norm.shape}\")\n",
    "\n",
    "# # 4. Normalize\n",
    "# from sklearn.preprocessing import MinMaxScaler\n",
    "# scaler = MinMaxScaler(feature_range=(0, 1))\n",
    "# x_test_norm = scaler.fit_transform(x_test_pca)\n",
    "# print(f\"4. x_test_norm shape: {x_test_norm.shape}\")"
   ]
  },
  {
   "cell_type": "markdown",
   "id": "b402f09b-33c2-469b-9c80-a4ccfe2e5d8a",
   "metadata": {},
   "source": [
    "🌿Generate multi-indices"
   ]
  },
  {
   "cell_type": "code",
   "execution_count": 2,
   "id": "0e5e2f4a-1207-49e5-a325-d5cf93412b40",
   "metadata": {
    "jupyter": {
     "source_hidden": true
    }
   },
   "outputs": [
    {
     "name": "stdout",
     "output_type": "stream",
     "text": [
      "no_of_coeff = 76\n"
     ]
    }
   ],
   "source": [
    "def r_multi_indices(n, d):\n",
    "    if n == 1:\n",
    "        yield (d,)\n",
    "    else:\n",
    "        for k in range(d + 1):\n",
    "            for c in r_multi_indices(n - 1, k):\n",
    "                yield (d - k, *c)\n",
    "\n",
    "def generate_multi_indices(n, d):\n",
    "    from itertools import chain\n",
    "    return list(chain(*[list(r_multi_indices(n, _)) for _ in range(d + 1)]))\n",
    "\n",
    "import pickle\n",
    "import os\n",
    "models_dir = \"/home/ajay2425/rclass/models/models_grb/\"\n",
    "# models_dir = \"/home/ajay2425/rclass/models/add/\" #temp.\n",
    "# Load the model for the current digit\n",
    "model_path = f\"{models_dir}/classifier_0.pkl\"\n",
    "with open(model_path, \"rb\") as file:\n",
    "    model = pickle.load(file)\n",
    "# Extract model parameters\n",
    "n_components = model[\"n_components\"]\n",
    "d = model[\"degree\"]\n",
    "c = generate_multi_indices(n_components, d)\n",
    "print(f\"no_of_coeff =\", len(c))"
   ]
  },
  {
   "cell_type": "markdown",
   "id": "ee6a5cae-f974-4db2-bb56-449dda4a02b6",
   "metadata": {},
   "source": [
    "🌿Generate polynomials"
   ]
  },
  {
   "cell_type": "code",
   "execution_count": 3,
   "id": "19c21d98-8baa-4d05-8a76-848fa17d6e28",
   "metadata": {
    "jupyter": {
     "source_hidden": true
    }
   },
   "outputs": [],
   "source": [
    "import numpy as np\n",
    "def construct_G_H_matrices(x_test_norm, n, d):\n",
    "    num_data_points = x_test_norm.shape[0]\n",
    "    multi_indices = generate_multi_indices(n, d)\n",
    "    num_coefficients = len(multi_indices)\n",
    "\n",
    "    # Initialize G and H matrices\n",
    "    G = []\n",
    "    H = []\n",
    "\n",
    "    # Construct G and H using multi-indices\n",
    "    for i in range(num_data_points):\n",
    "        G_row = []\n",
    "        H_row = []\n",
    "        for idx in multi_indices:\n",
    "            term = np.prod([x_test_norm[i, k] ** idx[k] for k in range(n)])\n",
    "            G_row.append(term)\n",
    "            H_row.append(term)\n",
    "        G.append(G_row)\n",
    "        H.append(H_row)\n",
    "\n",
    "    # Convert G and H to NumPy arrays\n",
    "    G = np.array(G)\n",
    "    H = np.array(H)\n",
    "\n",
    "    # # Normalize G and H row-wise for numerical stability\n",
    "    # G = G / np.linalg.norm(G, axis=1, keepdims=True)\n",
    "    # H = H / np.linalg.norm(H, axis=1, keepdims=True)\n",
    "\n",
    "    return G, H, multi_indices"
   ]
  },
  {
   "cell_type": "markdown",
   "id": "20047597-77c6-4674-9cf6-25fc9a4a8880",
   "metadata": {},
   "source": [
    "🌿Load saved models"
   ]
  },
  {
   "cell_type": "code",
   "execution_count": 4,
   "id": "c4d616da-ec62-4669-a1d9-91a668da6269",
   "metadata": {
    "jupyter": {
     "source_hidden": true
    }
   },
   "outputs": [],
   "source": [
    "import pickle\n",
    "import os\n",
    "\n",
    "models_dir = \"/home/ajay2425/rclass/models/models_grb/\"\n",
    "# models_dir = \"/home/ajay2425/rclass/models/add/\" #temp.\n",
    "\n",
    "# Load all classifiers into memory\n",
    "classifiers = {}\n",
    "for digit in range(10):\n",
    "    model_path = f\"{models_dir}/classifier_{digit}.pkl\"\n",
    "    if os.path.exists(model_path):\n",
    "        with open(model_path, \"rb\") as file:\n",
    "            classifiers[digit] = pickle.load(file)\n",
    "    else:\n",
    "        print(f\"Model for digit {digit} not found!\")\n",
    "\n",
    "# print(f\"Loaded classifiers for digits: {list(classifiers.keys())}\")"
   ]
  },
  {
   "cell_type": "markdown",
   "id": "b2cff57e-1069-4e10-9cac-f0ca3b0af7eb",
   "metadata": {},
   "source": [
    "🌿Test"
   ]
  },
  {
   "cell_type": "code",
   "execution_count": 5,
   "id": "e2665745-20cb-441f-8712-43b93b1981f0",
   "metadata": {
    "jupyter": {
     "source_hidden": true
    }
   },
   "outputs": [
    {
     "name": "stdout",
     "output_type": "stream",
     "text": [
      "Overall Testing Accuracy: 34.90%\n"
     ]
    }
   ],
   "source": [
    "from sklearn.metrics import accuracy_score\n",
    "\n",
    "# Initialize an array to store predictions\n",
    "predictions = []\n",
    "\n",
    "# Loop through each test sample\n",
    "for i, test_samples in enumerate(x_test_norm):\n",
    "    confidence_scores = []\n",
    "\n",
    "    # Pass the test sample through each classifier\n",
    "    for digit in range(10):\n",
    "\n",
    "        # Load the model for the current digit\n",
    "        model_path = f\"{models_dir}/classifier_{digit}.pkl\"\n",
    "        with open(model_path, \"rb\") as file:\n",
    "            model = pickle.load(file)\n",
    "        # Extract model parameters\n",
    "        alpha = model[\"alpha\"]\n",
    "        beta = model[\"beta\"]\n",
    "        theta = model[\"theta\"]\n",
    "        multi_indices = model[\"multi_indices\"]\n",
    "\n",
    "        test_sample_array = np.array([test_samples])\n",
    "\n",
    "        # Compute the rational function value for the current classifier\n",
    "        G, H, _ = construct_G_H_matrices(test_sample_array, model[\"n_components\"],  model[\"degree\"])\n",
    "        numerator = np.dot(G[0], alpha)\n",
    "        denominator = np.dot(H[0], beta)\n",
    "        # if np.abs(denominator) < 1e-8:\n",
    "        if np.abs(denominator) == 0:\n",
    "            denominator = 1e-8  # to prevent division by zero\n",
    "        rational_value = numerator / denominator\n",
    "\n",
    "        # Append the confidence score for this classifier\n",
    "        confidence_scores.append(rational_value)\n",
    "\n",
    "    # Determine the predicted digit (index of the highest confidence score)\n",
    "    predicted_digit = np.argmax(confidence_scores)\n",
    "    predictions.append(predicted_digit)\n",
    "\n",
    "    # # Debugging (optional): Print the confidence scores\n",
    "    # print(f\"Test Sample {i}: Confidence Scores = {confidence_scores}, Predicted Digit = {predicted_digit}\")\n",
    "\n",
    "#-----------------------------------------\n",
    "# Evaluate accuracy\n",
    "accuracy = accuracy_score(y_test_subset, predictions)\n",
    "print(f\"Overall Testing Accuracy: {accuracy * 100:.2f}%\")\n",
    "\n",
    "# # Optional: Save predictions and confidence scores for further analysis\n",
    "# results = {\"predictions\": predictions, \"confidence_scores\": confidence_scores}\n",
    "# with open(\"testing_results.pkl\", \"wb\") as file:\n",
    "#     pickle.dump(results, file)"
   ]
  },
  {
   "cell_type": "markdown",
   "id": "9a2a77f7-ed02-49e5-a501-0456fa660ad6",
   "metadata": {},
   "source": [
    "🌿Test with actual Image"
   ]
  },
  {
   "cell_type": "code",
   "execution_count": 6,
   "id": "dac47fbb-6760-4370-8d3e-e55face88e6c",
   "metadata": {},
   "outputs": [
    {
     "data": {
      "image/png": "[encoded data removed]",
      "text/plain": [
       "<Figure size 640x480 with 1 Axes>"
      ]
     },
     "metadata": {},
     "output_type": "display_data"
    }
   ],
   "source": [
    "import matplotlib.pyplot as plt\n",
    "import numpy as np\n",
    "\n",
    "index_to_visualize = 29\n",
    "\n",
    "# predicted digit for this index\n",
    "predicted_digit = predictions[index_to_visualize]\n",
    "\n",
    "# true digit for this index\n",
    "true_digit = y_test_subset[index_to_visualize]\n",
    "\n",
    "# Reshape the flattened image back to its original shape (28x28)\n",
    "image = x_test_subset[index_to_visualize].reshape(28, 28)\n",
    "\n",
    "# Plot the image\n",
    "plt.imshow(image, cmap='gray')  # Use 'gray' colormap for MNIST\n",
    "plt.title(f\"Predicted: {predicted_digit}, True: {true_digit}\")\n",
    "plt.show()"
   ]
  },
  {
   "cell_type": "markdown",
   "id": "509e7fd6-7d07-498e-9b44-2eec2042484f",
   "metadata": {},
   "source": [
    "🌿Accuracy Plot"
   ]
  },
  {
   "cell_type": "code",
   "execution_count": 7,
   "id": "4e55d424-ec98-472a-9b6d-ff8ae04b74ed",
   "metadata": {},
   "outputs": [
    {
     "data": {
      "image/png": "[encoded data removed]",
      "text/plain": [
       "<Figure size 1000x600 with 1 Axes>"
      ]
     },
     "metadata": {},
     "output_type": "display_data"
    }
   ],
   "source": [
    "import matplotlib.pyplot as plt\n",
    "\n",
    "# Data storage for visualization\n",
    "results = {\n",
    "    1: {  # d = 1\n",
    "        # (500, 5): 20.60,\n",
    "        # (500, 10): 16.80,\n",
    "        # (1000, 10): 51.20,\n",
    "        # (2000, 10): 13.30,\n",
    "        # (3000, 10): 17.57,\n",
    "    },\n",
    "    2: {  # d = 2\n",
    "        (500, 5): 2.1,\n",
    "        (500, 15): 4.6,\n",
    "        (500, 20): 2.6,\n",
    "        # (2000, 10): 60.55,\n",
    "        # (3000, 10): 65.37,\n",
    "        # (4000, 10): 82.42,\n",
    "        # (5000, 10): 54,\n",
    "        # (6000, 10): 55.20,\n",
    "    },\n",
    "    3: {  # d = 3\n",
    "        # (500, 5): 60.60,\n",
    "    },\n",
    "    4: {  # d = 4\n",
    "        #(500, 5): 62.00,\n",
    "    },\n",
    "}\n",
    "\n",
    "# Visualization function\n",
    "def plot_results(results):\n",
    "    plt.figure(figsize=(10, 6))\n",
    "    for d, values in results.items():\n",
    "        samples_components = list(values.keys())\n",
    "        accuracies = list(values.values())\n",
    "        labels = [f\"{samples}, {components}\" for samples, components in samples_components]\n",
    "\n",
    "        # Plot each degree d\n",
    "        plt.plot(labels, accuracies, marker='o', label=f\"d = {d}\")\n",
    "\n",
    "    # Add plot details\n",
    "    plt.title(\"Accuracy Comparison (Various Configurations), solver: Gurobi\")\n",
    "    plt.xlabel(\"(no. of Samples, no. of variables)\")\n",
    "    plt.ylabel(\"Accuracy (%)\")\n",
    "    plt.ylim(0, 100)\n",
    "    plt.xticks(rotation=45)\n",
    "    plt.grid(True)\n",
    "    plt.legend(title=\"Polynomial Degree (d)\")\n",
    "    plt.tight_layout()\n",
    "    plt.show()\n",
    "\n",
    "# Plot the results\n",
    "plot_results(results)"
   ]
  },
  {
   "cell_type": "code",
   "execution_count": null,
   "id": "18fc29c5-b5a6-42da-8df1-b62b5885036f",
   "metadata": {},
   "outputs": [],
   "source": []
  }
 ],
 "metadata": {
  "kernelspec": {
   "display_name": "Python (SageMath)",
   "language": "python",
   "name": "sagemath-env"
  },
  "language_info": {
   "codemirror_mode": {
    "name": "ipython",
    "version": 3
   },
   "file_extension": ".py",
   "mimetype": "text/x-python",
   "name": "python",
   "nbconvert_exporter": "python",
   "pygments_lexer": "ipython3",
   "version": "3.11.11"
  }
 },
 "nbformat": 4,
 "nbformat_minor": 5
}
