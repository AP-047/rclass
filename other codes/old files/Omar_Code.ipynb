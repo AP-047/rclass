{
 "cells": [
  {
   "cell_type": "code",
   "execution_count": 18,
   "id": "49b9ec00",
   "metadata": {},
   "outputs": [],
   "source": [
    "from sage.all import MixedIntegerLinearProgram\n",
    "from sage.numerical.mip import MIPSolverException\n",
    "import numpy as np\n",
    "from sklearn.decomposition import PCA\n",
    "from sklearn.preprocessing import StandardScaler\n",
    "from sklearn.preprocessing import PolynomialFeatures\n",
    "from sklearn.datasets import fetch_openml\n",
    "from sklearn.model_selection import train_test_split\n",
    "import matplotlib.pyplot as plt"
   ]
  },
  {
   "cell_type": "code",
   "execution_count": 19,
   "id": "2919dfb7-f10a-4fd3-a070-9b0710be5c47",
   "metadata": {},
   "outputs": [],
   "source": [
    "# # Fetch MNIST dataset\n",
    "# mnist = fetch_openml('mnist_784', version=1)\n",
    "# X = mnist.data.astype(np.float64).to_numpy()\n",
    "# y = mnist.target.astype(int).to_numpy()"
   ]
  },
  {
   "cell_type": "code",
   "execution_count": 28,
   "id": "d0e4789a-e558-4d7a-8eb9-3f0455befb84",
   "metadata": {},
   "outputs": [],
   "source": [
    "import numpy as np\n",
    "import pandas as pd\n",
    "\n",
    "mnist_csv_path = '/home/ajay2425/rclass/mnist_784.csv'\n",
    "\n",
    "# Load the dataset\n",
    "mnist_data = pd.read_csv(mnist_csv_path)\n",
    "\n",
    "# Explicitly cast indices to standard Python integers\n",
    "X = mnist_data.iloc[:, :int(-1)].to_numpy().astype(np.float64)  # Extract features\n",
    "y = mnist_data.iloc[:, int(-1)].to_numpy().astype(int)  # Extract labels"
   ]
  },
  {
   "cell_type": "code",
   "execution_count": 34,
   "id": "e535f0e5",
   "metadata": {},
   "outputs": [
    {
     "name": "stdout",
     "output_type": "stream",
     "text": [
      "Subset X shape: (400, 784)\n",
      "Subset y shape: (400,)\n"
     ]
    }
   ],
   "source": [
    "# Sample fewer data\n",
    "N_samples = 400\n",
    "indices = np.random.choice(X.shape[0], N_samples, replace=False)\n",
    "X = X[indices] \n",
    "y = y[indices]\n",
    "\n",
    "# Check the shapes\n",
    "print(\"Subset X shape:\", X.shape)\n",
    "print(\"Subset y shape:\", y.shape)"
   ]
  },
  {
   "cell_type": "code",
   "execution_count": 56,
   "id": "095d767f",
   "metadata": {},
   "outputs": [
    {
     "name": "stdout",
     "output_type": "stream",
     "text": [
      "Train shape: (320, 784), (320,)\n",
      "Test shape: (80, 784), (80,)\n"
     ]
    }
   ],
   "source": [
    "#grey scale images\n",
    "from sklearn.model_selection import train_test_split\n",
    "\n",
    "# Ensure test_size and random_state are standard Python types\n",
    "X_train, X_test, y_train, y_test = train_test_split(\n",
    "    X, y, test_size=float(0.2), random_state=int(42)\n",
    ")\n",
    "\n",
    "print(f\"Train shape: {X_train.shape}, {y_train.shape}\")\n",
    "print(f\"Test shape: {X_test.shape}, {y_test.shape}\")\n",
    "# print(X_train[1])\n",
    "# print(X_test[1])"
   ]
  },
  {
   "cell_type": "code",
   "execution_count": 60,
   "id": "b523ab59",
   "metadata": {},
   "outputs": [
    {
     "name": "stdout",
     "output_type": "stream",
     "text": [
      "X_train_scaled shape: (320, 784)\n",
      "X_test_scaled shape: (80, 784)\n"
     ]
    }
   ],
   "source": [
    "# Scale and PCA\n",
    "scaler = StandardScaler()\n",
    "X_train_scaled = scaler.fit_transform(X_train)\n",
    "X_test_scaled = scaler.transform(X_test)\n",
    "print(f\"X_train_scaled shape: {X_train_scaled.shape}\")\n",
    "print(f\"X_test_scaled shape: {X_test_scaled.shape}\")\n",
    "# print(X_train_scaled[1])"
   ]
  },
  {
   "cell_type": "code",
   "execution_count": 64,
   "id": "90f0e36b",
   "metadata": {},
   "outputs": [
    {
     "name": "stdout",
     "output_type": "stream",
     "text": [
      "[-7.8917244   0.75589643 -1.4227785  -3.5469885  -5.96305245]\n",
      "X_train_pca shape: (320, 5)\n"
     ]
    }
   ],
   "source": [
    "# Choose a reduced dimension d\n",
    "d = 5 # PCA dimension\n",
    "var = 0.85 # Variance \n",
    "pca = PCA(n_components=d)\n",
    "X_train_pca = pca.fit_transform(X_train_scaled)\n",
    "X_test_pca = pca.transform(X_test_scaled)\n",
    "print(X_train_pca[1])\n",
    "print(f\"X_train_pca shape: {X_train_pca.shape}\")"
   ]
  },
  {
   "cell_type": "code",
   "execution_count": 38,
   "id": "95cb070b",
   "metadata": {},
   "outputs": [],
   "source": [
    "# def polynomial_features(X_pca):\n",
    "#     # X_pca: N x d\n",
    "#     # Features: [1, x_1, x_2, ..., x_d]\n",
    "#     N, d = X_pca.shape\n",
    "#     Phi = np.hstack((np.ones((N,1)), X_pca))\n",
    "#     return Phi"
   ]
  },
  {
   "cell_type": "code",
   "execution_count": 39,
   "id": "2d5506d6",
   "metadata": {},
   "outputs": [],
   "source": [
    "poly = PolynomialFeatures(degree=3, include_bias=True)\n",
    "Phi_train = poly.fit_transform(X_train_pca)\n",
    "Phi_test = poly.transform(X_test_pca)"
   ]
  },
  {
   "cell_type": "code",
   "execution_count": 40,
   "id": "68141bfb",
   "metadata": {},
   "outputs": [],
   "source": [
    "# Phi_train = polynomial_features(X_train_pca)\n",
    "# Phi_test = polynomial_features(X_test_pca)"
   ]
  },
  {
   "cell_type": "code",
   "execution_count": 41,
   "id": "17948495",
   "metadata": {},
   "outputs": [],
   "source": [
    "# Define Classes \n",
    "classes = range(10)"
   ]
  },
  {
   "cell_type": "code",
   "execution_count": 42,
   "id": "72b47181",
   "metadata": {},
   "outputs": [],
   "source": [
    "# Array representation\n",
    "f_values = {}\n",
    "for c in classes:\n",
    "    f_values[c] = np.array([1 if label == c else 0 for label in y_train])"
   ]
  },
  {
   "cell_type": "code",
   "execution_count": 45,
   "id": "aed5d43f",
   "metadata": {},
   "outputs": [],
   "source": [
    "def is_feasible_for_z(Phi, f_c, z_current):\n",
    "    \"\"\"\n",
    "    Check feasibility of rational approximation for a fixed z_current.\n",
    "    Returns (feasible, p_coeffs, q_coeffs) where:\n",
    "    - feasible is a boolean\n",
    "    - p_coeffs, q_coeffs are arrays if feasible, otherwise None\n",
    "    \"\"\"\n",
    "    N, num_terms = Phi.shape\n",
    "    p = MixedIntegerLinearProgram(solver=\"Gurobi\", maximization=False)\n",
    "    p_vars = p.new_variable(real=True) # p(x) coeffs\n",
    "    q_vars = p.new_variable(real=True) # q(x) coeffs\n",
    "\n",
    "    # Fix q_0 = 1 to avoid trivial solution\n",
    "    p.add_constraint(q_vars[0] == 1)\n",
    "\n",
    "    # Add constraints for each sample\n",
    "    for i in range(N):\n",
    "        # p(x_i)\n",
    "        p_xi = sum(Phi[i,j]*p_vars[j] for j in range(num_terms))\n",
    "        # q(x_i)\n",
    "        q_xi = sum(Phi[i,j]*q_vars[j] for j in range(num_terms))\n",
    "\n",
    "        # f(x_i)*q(x_i) - p(x_i) ≤ z_current * q(x_i)\n",
    "        p.add_constraint(f_c[i]*q_xi - p_xi - z_current*q_xi <= 0)\n",
    "\n",
    "        # -(f(x_i)*q(x_i) - p(x_i)) ≤ z_current * q(x_i)\n",
    "        # p_xi - f_c[i]*q_xi ≤ z_current*q_xi\n",
    "        p.add_constraint(p_xi - f_c[i]*q_xi - z_current*q_xi <= 0)\n",
    "\n",
    "    # Objective is irrelevant here; just check feasibility\n",
    "    p.set_objective(0)\n",
    "\n",
    "    try:\n",
    "        p.solve()\n",
    "        p_coeffs = np.array([p.get_values(p_vars[j]) for j in range(num_terms)])\n",
    "        q_coeffs = np.array([p.get_values(q_vars[j]) for j in range(num_terms)])\n",
    "        return True, p_coeffs, q_coeffs\n",
    "    except MIPSolverException:\n",
    "        return False, None, None"
   ]
  },
  {
   "cell_type": "code",
   "execution_count": 46,
   "id": "76455b68",
   "metadata": {},
   "outputs": [],
   "source": [
    "def solve_rational_approx_bisection(Phi, f_c, z_init_high=1.0, tolerance=1e-6, max_iter=20):\n",
    "    \"\"\"\n",
    "    Use bisection on z to find the minimal z that gives a feasible rational approximation.\n",
    "    Returns (p_coeffs, q_coeffs, z_approx) if found, otherwise (None, None, None).\n",
    "    \"\"\"\n",
    "    z_low = 0.0\n",
    "    z_high = z_init_high\n",
    "\n",
    "    best_p, best_q = None, None\n",
    "\n",
    "    for it in range(max_iter):\n",
    "        z_current = 0.5 * (z_low + z_high)\n",
    "        feasible, p_coeffs, q_coeffs = is_feasible_for_z(Phi, f_c, z_current)\n",
    "        if feasible:\n",
    "            # We can achieve z_current, so try smaller\n",
    "            z_high = z_current\n",
    "            best_p = p_coeffs\n",
    "            best_q = q_coeffs\n",
    "        else:\n",
    "            # Not feasible, we need bigger z\n",
    "            z_low = z_current\n",
    "\n",
    "        if (z_high - z_low) < tolerance:\n",
    "            break\n",
    "\n",
    "    # If best_p is still None, it means never feasible\n",
    "    if best_p is None:\n",
    "        return None, None, None\n",
    "\n",
    "    z_approx = 0.5*(z_low + z_high)\n",
    "    return best_p, best_q, z_approx"
   ]
  },
  {
   "cell_type": "code",
   "execution_count": 47,
   "id": "2965cacd",
   "metadata": {},
   "outputs": [
    {
     "name": "stdout",
     "output_type": "stream",
     "text": [
      "Solving for class 0...\n",
      "Class 0: z_approx = 4.76837158203125e-7\n",
      "Solving for class 1...\n",
      "Class 1: z_approx = 4.76837158203125e-7\n",
      "Solving for class 2...\n",
      "Class 2: z_approx = 4.76837158203125e-7\n",
      "Solving for class 3...\n",
      "Class 3: z_approx = 0.0856442451477051\n",
      "Solving for class 4...\n",
      "Class 4: z_approx = 0.300024509429932\n",
      "Solving for class 5...\n",
      "Class 5: z_approx = 0.237689495086670\n",
      "Solving for class 6...\n",
      "Class 6: z_approx = 4.76837158203125e-7\n",
      "Solving for class 7...\n",
      "Class 7: z_approx = 4.76837158203125e-7\n",
      "Solving for class 8...\n",
      "Class 8: z_approx = 0.472228527069092\n",
      "Solving for class 9...\n",
      "Class 9: z_approx = 4.76837158203125e-7\n",
      "runing time:74.18101453781128 s\n"
     ]
    }
   ],
   "source": [
    "import time\n",
    "start_time = time.time()\n",
    "models = {}\n",
    "for c in classes:\n",
    "    print(\"Solving for class {}...\".format(c))\n",
    "    p_coeffs, q_coeffs, z_approx = solve_rational_approx_bisection(Phi_train, f_values[c], z_init_high=1.0)\n",
    "    if p_coeffs is None:\n",
    "        print(\"Class {}: No feasible solution found.\".format(c))\n",
    "        models[c] = None\n",
    "    else:\n",
    "        models[c] = (p_coeffs, q_coeffs, z_approx)\n",
    "        print(\"Class {}: z_approx = {}\".format(c, z_approx))\n",
    "        \n",
    "end_time = time.time()\n",
    "print(\"runing time:{} s\".format(end_time - start_time))"
   ]
  },
  {
   "cell_type": "code",
   "execution_count": 48,
   "id": "46263634",
   "metadata": {},
   "outputs": [
    {
     "name": "stdout",
     "output_type": "stream",
     "text": [
      "(56,)\n"
     ]
    }
   ],
   "source": [
    "p_coeffs, q_coeffs, _ = models[1]\n",
    "print(p_coeffs.shape)"
   ]
  },
  {
   "cell_type": "code",
   "execution_count": 49,
   "id": "e27664b0",
   "metadata": {},
   "outputs": [
    {
     "data": {
      "text/plain": [
       "(56,)"
      ]
     },
     "execution_count": 49,
     "metadata": {},
     "output_type": "execute_result"
    }
   ],
   "source": [
    "x_scaled = scaler.transform(X_test[1].reshape(1, -1))\n",
    "x_pca = pca.transform(x_scaled)[0]\n",
    "feat = poly.transform(x_pca.reshape(1, -1))[0]\n",
    "feat.shape"
   ]
  },
  {
   "cell_type": "code",
   "execution_count": 50,
   "id": "e369227c",
   "metadata": {},
   "outputs": [],
   "source": [
    "def evaluate_rational(p_coeffs, q_coeffs, x_pca):\n",
    "    # construct a feature vector by adding a bias term q_0 = 1\n",
    "    feat = poly.transform(x_pca.reshape(1, -1))[0]\n",
    "    \n",
    "    # \n",
    "    p_val = np.dot(p_coeffs, feat)\n",
    "    q_val = np.dot(q_coeffs, feat)\n",
    "    if q_val == 0:\n",
    "        return -float('inf')  \n",
    "    return p_val / q_val\n",
    "\n",
    "def classify(x):\n",
    "    # Transform x\n",
    "    x_pca = pca.transform(scaler.transform(x.reshape(1, -1)))\n",
    "    scores = {}\n",
    "    for c in models:\n",
    "        if models[c] is None:\n",
    "            scores[c] = -float('inf')\n",
    "        else:\n",
    "            p_coeffs, q_coeffs, _ = models[c]\n",
    "            scores[c] = evaluate_rational(p_coeffs, q_coeffs, x_pca)\n",
    "    return max(scores, key=scores.get)"
   ]
  },
  {
   "cell_type": "code",
   "execution_count": 51,
   "id": "8c254ba8",
   "metadata": {},
   "outputs": [
    {
     "name": "stdout",
     "output_type": "stream",
     "text": [
      "Test Accuracy on a random subset of test data: 0.15\n"
     ]
    }
   ],
   "source": [
    "# Test a random sample from X_pca\n",
    "num_of_test = 40\n",
    "# for num in range(num_of_test):\n",
    "accuracy= np.zeros(shape=num_of_test)\n",
    "correct = 0\n",
    "test_count = 20  # test on 100 samples\n",
    "test_indices = np.random.choice(X_test.shape[0], test_count, replace=False) \n",
    "for idx in test_indices:\n",
    "    pred = classify(X_test[idx])\n",
    "    if pred == y_test[idx]:\n",
    "        correct += 1\n",
    "# accuracy[num] = float(correct) / test_count\n",
    "accuracy = float(correct) / test_count\n",
    "#     avg_acc += accuracy/num_of_test\n",
    "print(\"Test Accuracy on a random subset of test data: {}\".format(accuracy))"
   ]
  },
  {
   "cell_type": "code",
   "execution_count": null,
   "id": "161627ad",
   "metadata": {
    "jupyter": {
     "source_hidden": true
    }
   },
   "outputs": [],
   "source": [
    "# img = classify(X_test[2])\n",
    "aa = X_test[3].reshape(28,28)\n",
    "plt.imshow(aa, cmap='gray')\n",
    "# plt.imshow(img, cmap='gray')"
   ]
  },
  {
   "cell_type": "code",
   "execution_count": null,
   "id": "080d9943",
   "metadata": {
    "jupyter": {
     "source_hidden": true
    }
   },
   "outputs": [],
   "source": [
    "# Suppose you want to visualize 10 random test samples\n",
    "num_visual = 20\n",
    "indices = np.random.choice(X_test.shape[0], num_visual, replace=False)\n",
    "\n",
    "\n",
    "plt.figure(figsize=(12, 6))\n",
    "for i, idx in enumerate(indices):\n",
    "    img = X_test[idx].reshape(28,28)\n",
    "    pred = classify(X_test[idx])\n",
    "    true_label = y_test[idx]\n",
    "\n",
    "    plt.subplot(5,4, i+1)\n",
    "    plt.imshow(img, cmap='gray')\n",
    "    plt.title(\"True: {}, Pred: {}\".format(true_label, pred))\n",
    "    plt.axis('off')\n",
    "plt.tight_layout()\n",
    "plt.show()\n"
   ]
  },
  {
   "cell_type": "code",
   "execution_count": 21,
   "id": "ea4e2869",
   "metadata": {
    "jupyter": {
     "source_hidden": true
    }
   },
   "outputs": [],
   "source": [
    "\n",
    "import itertools\n",
    "def num_of_param(d, var):\n",
    "    v = np.zeros(var)\n",
    "    v.fill()\n",
    "    print(list(itertools.combinations_with_replacement(v,d)))"
   ]
  },
  {
   "cell_type": "code",
   "execution_count": null,
   "id": "5d7f7309",
   "metadata": {
    "jupyter": {
     "source_hidden": true
    }
   },
   "outputs": [],
   "source": [
    "deg = 2\n",
    "var = 3\n",
    "num_of_param(deg, var)"
   ]
  },
  {
   "cell_type": "code",
   "execution_count": null,
   "id": "d112d862",
   "metadata": {
    "jupyter": {
     "source_hidden": true
    }
   },
   "outputs": [],
   "source": [
    "from itertools import chain, combinations\n",
    "def combinations(n_features, min_degree, max_degree):\n",
    "    comb = combinations\n",
    "    start = max(1, min_degree)\n",
    "    iter = chain.from_iterable(comb(range(n_features), i) for i in range(start, max_degree + 1))\n",
    "    list(iter)"
   ]
  },
  {
   "cell_type": "code",
   "execution_count": null,
   "id": "7d3780d7",
   "metadata": {
    "jupyter": {
     "source_hidden": true
    }
   },
   "outputs": [],
   "source": [
    "min_deg = 0\n",
    "max_deg = 2\n",
    "var = 3\n",
    "combinations(var, min_deg, max_deg)"
   ]
  },
  {
   "cell_type": "code",
   "execution_count": null,
   "id": "6b9ed4e0",
   "metadata": {
    "jupyter": {
     "source_hidden": true
    }
   },
   "outputs": [],
   "source": [
    "import numpy as np\n",
    "from scipy.special import comb\n",
    "deg = 3\n",
    "var = 3\n",
    "comb(var, deg, exact=False, repetition= True)"
   ]
  },
  {
   "cell_type": "code",
   "execution_count": null,
   "id": "e73e123c",
   "metadata": {
    "jupyter": {
     "source_hidden": true
    }
   },
   "outputs": [],
   "source": [
    "import itertools\n",
    "deg =2 \n",
    "a = range(deg+1)\n",
    "print(a)\n",
    "print(list(itertools.chain(a )))\n",
    "\n"
   ]
  },
  {
   "cell_type": "code",
   "execution_count": null,
   "id": "5d77ce70",
   "metadata": {
    "jupyter": {
     "source_hidden": true
    }
   },
   "outputs": [],
   "source": [
    "import itertools\n",
    "from scipy.special import comb\n",
    "import time\n",
    "\n",
    "start_time = time.time()\n",
    "\n",
    "max_degree = 2\n",
    "n_features = 15\n",
    "include_bias = False\n",
    "\n",
    "# Calculate number of combinations (this is for reference)\n",
    "combinations = comb(n_features + max_degree, max_degree, exact=True) - 1\n",
    "if include_bias:\n",
    "    combinations += 1\n",
    "print(\"Number of combinations:\", combinations)\n",
    "\n",
    "# generate the  exponent combinations\n",
    "exponent_combinations = []\n",
    "start_degree = 0 if include_bias else 1\n",
    "\n",
    "for total_deg in range(start_degree, max_degree + 1):\n",
    "    # Generate all n_features-tuples of non-negative integers up to total_deg\n",
    "    for combo in itertools.product(range(total_deg + 1), repeat=n_features):\n",
    "        if sum(combo) == total_deg:\n",
    "            exponent_combinations.append(combo)\n",
    "end_time = time.time()\n",
    "print(\"Exponent combinations:\", exponent_combinations)\n",
    "print(\"Running time:\", end_time - start_time, \"seconds\")\n"
   ]
  },
  {
   "cell_type": "code",
   "execution_count": null,
   "id": "dc27c600-5d7d-4604-91b8-7d7e6cff2774",
   "metadata": {},
   "outputs": [],
   "source": []
  }
 ],
 "metadata": {
  "kernelspec": {
   "display_name": "SageMath 10.4",
   "language": "sage",
   "name": "sagemath"
  },
  "language_info": {
   "codemirror_mode": {
    "name": "ipython",
    "version": 3
   },
   "file_extension": ".py",
   "mimetype": "text/x-python",
   "name": "python",
   "nbconvert_exporter": "python",
   "pygments_lexer": "ipython3",
   "version": "3.11.11"
  }
 },
 "nbformat": 4,
 "nbformat_minor": 5
}
